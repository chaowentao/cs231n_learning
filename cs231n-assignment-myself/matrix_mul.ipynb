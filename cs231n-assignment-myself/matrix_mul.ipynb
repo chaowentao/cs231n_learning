{
 "cells": [
  {
   "cell_type": "code",
   "execution_count": 47,
   "metadata": {},
   "outputs": [
    {
     "name": "stdout",
     "output_type": "stream",
     "text": [
      "x shape is 4 * 2\n",
      "y shape is 2 * 4\n",
      "x * y = [[3, 6, 9, 12], [7, 14, 21, 28], [3, 6, 9, 12], [7, 14, 21, 28]]\n",
      "The two dimensions are inconsistent and cannot be calculated!\n",
      "x * z = None\n"
     ]
    }
   ],
   "source": [
    "\n",
    "class matrix(object):\n",
    "\n",
    "    # Constructor\n",
    "    def __init__(self, X, Y):\n",
    "        self.x = X  # Create an instance variable\n",
    "        self.y = Y\n",
    "\n",
    "    # Instance method\n",
    "    def multiply(self):\n",
    "        if len(self.x[0]) == len(self.y):\n",
    "            res = [[0] * len(self.x) for i in range(len(self.y[0]))] #create 0 array\n",
    "            for i in range(len(self.x)): # Calculate each value one by one\n",
    "                for j in range(len(self.y[0])):\n",
    "                    for k in range(len(self.y)):\n",
    "                        res[i][j] += x[i][k] * y[k][j]\n",
    "            return res\n",
    "        else:\n",
    "            print(\"The two dimensions are inconsistent and cannot be calculated!\")\n",
    "            return None\n",
    "x = [[1,2], [3,4], [1,2], [3,4]]\n",
    "y = [[1,2,3,4], [1,2,3,4]]\n",
    "print(\"x shape is %d * %d\" %(len(x),len(x[0])))\n",
    "print(\"y shape is %d * %d\" %(len(y),len(y[0])))\n",
    "g = matrix(x,y)  # Construct an instance of the matrix class\n",
    "result = g.multiply()            # Call an multiply method; return result\n",
    "print(\"x * y = %s\" %(result))\n",
    "z = [[1,2,3,4], [1,2,3,4],[1,2,3,4]]\n",
    "\n",
    "result1 = matrix(x,z).multiply()            # Call an multiply method; return result\n",
    "print(\"x * z = %s\" %(result1))"
   ]
  },
  {
   "cell_type": "code",
   "execution_count": null,
   "metadata": {},
   "outputs": [],
   "source": []
  },
  {
   "cell_type": "code",
   "execution_count": null,
   "metadata": {},
   "outputs": [],
   "source": []
  },
  {
   "cell_type": "code",
   "execution_count": null,
   "metadata": {},
   "outputs": [],
   "source": []
  }
 ],
 "metadata": {
  "kernelspec": {
   "display_name": "Python 3",
   "language": "python",
   "name": "python3"
  },
  "language_info": {
   "codemirror_mode": {
    "name": "ipython",
    "version": 3
   },
   "file_extension": ".py",
   "mimetype": "text/x-python",
   "name": "python",
   "nbconvert_exporter": "python",
   "pygments_lexer": "ipython3",
   "version": "3.7.0"
  }
 },
 "nbformat": 4,
 "nbformat_minor": 2
}
