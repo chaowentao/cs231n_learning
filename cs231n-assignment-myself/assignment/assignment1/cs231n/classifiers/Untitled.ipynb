{
 "cells": [
  {
   "cell_type": "code",
   "execution_count": 8,
   "metadata": {},
   "outputs": [
    {
     "name": "stdout",
     "output_type": "stream",
     "text": [
      "(2, 3)\n",
      "[[ 1  4  9]\n",
      " [16 25 36]]\n",
      "(4, 3)\n",
      "[[ 0.          5.19615242 10.39230485 15.58845727]\n",
      " [ 5.19615242  0.          5.19615242 10.39230485]]\n"
     ]
    }
   ],
   "source": [
    "import numpy as np\n",
    "a = np.array([[1,2,3],[4,5,6]])\n",
    "b = np.array([[1,2,3],[4,5,6],[7,8,9],[10,11,12]])\n",
    "dists = np.sqrt(np.sum(np.square(b), axis = 1) + np.transpose([np.sum(np.square(a), axis = 1)]) - 2*np.dot(a, b.T))\n",
    "print(a.shape)\n",
    "print(np.square(a))\n",
    "print(b.shape)\n",
    "print(dists)"
   ]
  },
  {
   "cell_type": "code",
   "execution_count": 4,
   "metadata": {},
   "outputs": [
    {
     "name": "stdout",
     "output_type": "stream",
     "text": [
      "[14 77]\n"
     ]
    }
   ],
   "source": [
    "print(np.sum(np.square(a), axis = 1))\n"
   ]
  },
  {
   "cell_type": "code",
   "execution_count": 14,
   "metadata": {},
   "outputs": [
    {
     "name": "stdout",
     "output_type": "stream",
     "text": [
      "[14 77]\n",
      "[[ 14]\n",
      " [ 77]\n",
      " [194]\n",
      " [365]]\n",
      "[[ 28  91]\n",
      " [ 91 154]\n",
      " [208 271]\n",
      " [379 442]]\n"
     ]
    }
   ],
   "source": [
    "temp = np.sum(np.square(a), axis = 1) + np.transpose([np.sum(np.square(b), axis = 1)])\n",
    "print(np.sum(np.square(a), axis = 1))\n",
    "print(np.transpose([np.sum(np.square(b), axis = 1)]))\n",
    "print(temp)"
   ]
  },
  {
   "cell_type": "code",
   "execution_count": 15,
   "metadata": {},
   "outputs": [
    {
     "name": "stdout",
     "output_type": "stream",
     "text": [
      "[1 2 0]\n"
     ]
    }
   ],
   "source": [
    "x = np.array([3,1,2]) \n",
    "print(np.argsort(x))"
   ]
  },
  {
   "cell_type": "code",
   "execution_count": 19,
   "metadata": {},
   "outputs": [
    {
     "name": "stdout",
     "output_type": "stream",
     "text": [
      "[1 2]\n"
     ]
    }
   ],
   "source": [
    "idx = np.argsort(x)[:2]\n",
    "print(np.argsort(x)[:2])"
   ]
  },
  {
   "cell_type": "code",
   "execution_count": 20,
   "metadata": {},
   "outputs": [
    {
     "name": "stdout",
     "output_type": "stream",
     "text": [
      "[1 2]\n"
     ]
    }
   ],
   "source": [
    "print(x[idx])"
   ]
  },
  {
   "cell_type": "code",
   "execution_count": 21,
   "metadata": {},
   "outputs": [
    {
     "name": "stdout",
     "output_type": "stream",
     "text": [
      "<class 'numpy.ndarray'>\n"
     ]
    }
   ],
   "source": [
    "print(type(x[idx]))"
   ]
  },
  {
   "cell_type": "code",
   "execution_count": null,
   "metadata": {},
   "outputs": [],
   "source": []
  }
 ],
 "metadata": {
  "kernelspec": {
   "display_name": "Python 3",
   "language": "python",
   "name": "python3"
  },
  "language_info": {
   "codemirror_mode": {
    "name": "ipython",
    "version": 3
   },
   "file_extension": ".py",
   "mimetype": "text/x-python",
   "name": "python",
   "nbconvert_exporter": "python",
   "pygments_lexer": "ipython3",
   "version": "3.7.0"
  }
 },
 "nbformat": 4,
 "nbformat_minor": 2
}
