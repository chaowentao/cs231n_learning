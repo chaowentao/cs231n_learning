{
 "cells": [
  {
   "cell_type": "code",
   "execution_count": null,
   "metadata": {},
   "outputs": [],
   "source": [
    "for i in range(5):\n",
    "    w_name = 'W'+str(i)\n",
    "    b_name = 'b'+str(i)\n",
    "    print(w_name)\n",
    "    print(b_name)\n"
   ]
  },
  {
   "cell_type": "code",
   "execution_count": 4,
   "metadata": {
    "scrolled": true
   },
   "outputs": [
    {
     "name": "stdout",
     "output_type": "stream",
     "text": [
      "[{'mode': 'train'}, {'mode': 'train'}, {'mode': 'train'}, {'mode': 'train'}, {'mode': 'train'}]\n"
     ]
    }
   ],
   "source": [
    "bn_params = []\n",
    "bn_params = [{'mode': 'train'} for i in range(5)]\n",
    "print(bn_params)\n",
    "for i in range(3):\n",
    "    print(\"i: \",i)\n",
    "print(\"i: \",i)"
   ]
  }
 ],
 "metadata": {
  "kernelspec": {
   "display_name": "Python 3",
   "language": "python",
   "name": "python3"
  },
  "language_info": {
   "codemirror_mode": {
    "name": "ipython",
    "version": 3
   },
   "file_extension": ".py",
   "mimetype": "text/x-python",
   "name": "python",
   "nbconvert_exporter": "python",
   "pygments_lexer": "ipython3",
   "version": "3.7.0"
  }
 },
 "nbformat": 4,
 "nbformat_minor": 2
}
